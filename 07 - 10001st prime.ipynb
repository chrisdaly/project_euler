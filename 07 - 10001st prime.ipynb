{
 "cells": [
  {
   "cell_type": "markdown",
   "metadata": {},
   "source": [
    "## Description"
   ]
  },
  {
   "cell_type": "markdown",
   "metadata": {},
   "source": [
    "By listing the first six prime numbers: 2, 3, 5, 7, 11, and 13, we can see that the 6th prime is 13.\n",
    "\n",
    "What is the 10 001st prime number?"
   ]
  },
  {
   "cell_type": "markdown",
   "metadata": {},
   "source": [
    "## Solution"
   ]
  },
  {
   "cell_type": "code",
   "execution_count": 1,
   "metadata": {},
   "outputs": [],
   "source": [
    "import math\n",
    "from utils import timer"
   ]
  },
  {
   "cell_type": "code",
   "execution_count": 8,
   "metadata": {},
   "outputs": [],
   "source": [
    "def number_is_prime(number: int) -> bool:\n",
    "    if number == 2:\n",
    "        return True\n",
    "    \n",
    "    if number == 1 or (number % 2) == 0 :\n",
    "        return False\n",
    "\n",
    "    # Only need to until where r * r <= n\n",
    "    r = math.floor(math.sqrt(number))\n",
    "    possible_divisors = list(range(2, r+1))\n",
    "\n",
    "    remainders_evenly_divisable = [number % x == 0 for x in possible_divisors]\n",
    "    return not any(remainders_evenly_divisable)"
   ]
  },
  {
   "cell_type": "code",
   "execution_count": 10,
   "metadata": {},
   "outputs": [],
   "source": [
    "@timer\n",
    "def get_primes_for_limit_bruteforce(limit: int) -> list:\n",
    "    primes = []\n",
    "    n = 1\n",
    "    while len(primes) < limit:\n",
    "        if number_is_prime(n):\n",
    "            primes.append(n)\n",
    "        n += 1\n",
    "    return primes"
   ]
  },
  {
   "cell_type": "code",
   "execution_count": 11,
   "metadata": {},
   "outputs": [],
   "source": [
    "limit = 10001\n",
    "answer = 104743"
   ]
  },
  {
   "cell_type": "code",
   "execution_count": 12,
   "metadata": {},
   "outputs": [
    {
     "name": "stdout",
     "output_type": "stream",
     "text": [
      "Finished 'get_primes_for_limit_bruteforce' in 0.8731 secs\n"
     ]
    }
   ],
   "source": [
    "primes = get_primes_for_limit_bruteforce(limit)\n",
    "assert primes[-1] == answer"
   ]
  }
 ],
 "metadata": {
  "kernelspec": {
   "display_name": "Python 3",
   "language": "python",
   "name": "python3"
  },
  "language_info": {
   "codemirror_mode": {
    "name": "ipython",
    "version": 3
   },
   "file_extension": ".py",
   "mimetype": "text/x-python",
   "name": "python",
   "nbconvert_exporter": "python",
   "pygments_lexer": "ipython3",
   "version": "3.7.4"
  }
 },
 "nbformat": 4,
 "nbformat_minor": 2
}
