{
 "cells": [
  {
   "cell_type": "markdown",
   "metadata": {},
   "source": [
    "## Description"
   ]
  },
  {
   "cell_type": "markdown",
   "metadata": {},
   "source": [
    "A Pythagorean triplet is a set of three natural numbers, a < b < c, for which,\n",
    "\n",
    "a2 + b2 = c2\n",
    "For example, 3^2 + 4^2 = 9 + 16 = 25 = 5^2.\n",
    "\n",
    "There exists exactly one Pythagorean triplet for which a + b + c = 1000.\n",
    "Find the product abc."
   ]
  },
  {
   "cell_type": "markdown",
   "metadata": {},
   "source": [
    "## Solution"
   ]
  },
  {
   "cell_type": "code",
   "execution_count": 15,
   "metadata": {},
   "outputs": [],
   "source": [
    "import math\n",
    "from functools import reduce\n",
    "from utils import timer"
   ]
  },
  {
   "cell_type": "markdown",
   "metadata": {},
   "source": [
    "# We can use the two extra constraints of a pythagorean triplet:\n",
    "\n",
    "a < b < c \n",
    "\n",
    "=> a <= 1000 / 3, b <= 1000/2\n",
    "\n",
    "\n",
    "a, b, c are natural numbers \n",
    "\n",
    "=> only need to check c if it is an integer"
   ]
  },
  {
   "cell_type": "code",
   "execution_count": 11,
   "metadata": {},
   "outputs": [],
   "source": [
    "@timer\n",
    "def find_pythagorean_triplets_summing_to(sum_to: int) -> list:\n",
    "    \"\"\"Find all triplets below limit summing to .\"\"\"\n",
    "    for a in range(1, (int(sum_to/3)) + 1):\n",
    "        for b in range(a+1, int((sum_to/2)) + 1):\n",
    "            c = math.sqrt(a ** 2 + b ** 2)\n",
    "            if (c.is_integer()):\n",
    "                c = int(c)\n",
    "                if a + b + c == 1000:\n",
    "                    return a, b, c"
   ]
  },
  {
   "cell_type": "code",
   "execution_count": 12,
   "metadata": {},
   "outputs": [
    {
     "name": "stdout",
     "output_type": "stream",
     "text": [
      "Finished 'find_pythagorean_triplets_summing_to' in 0.0557 secs\n"
     ]
    },
    {
     "data": {
      "text/plain": [
       "(200, 375, 425)"
      ]
     },
     "execution_count": 12,
     "metadata": {},
     "output_type": "execute_result"
    }
   ],
   "source": [
    "RHS = 1000\n",
    "triplet = find_pythagorean_triplets_summing_to(1000)\n",
    "triplet"
   ]
  },
  {
   "cell_type": "code",
   "execution_count": 13,
   "metadata": {},
   "outputs": [],
   "source": [
    "a, b, c = triplet\n",
    "assert a + b + c == RHS\n",
    "assert a**2 + b**2 == c**2"
   ]
  },
  {
   "cell_type": "code",
   "execution_count": 14,
   "metadata": {},
   "outputs": [
    {
     "data": {
      "text/plain": [
       "31875000"
      ]
     },
     "execution_count": 14,
     "metadata": {},
     "output_type": "execute_result"
    }
   ],
   "source": [
    "product = reduce(lambda x, y: x*y, triplet)\n",
    "product"
   ]
  }
 ],
 "metadata": {
  "kernelspec": {
   "display_name": "Python 3",
   "language": "python",
   "name": "python3"
  },
  "language_info": {
   "codemirror_mode": {
    "name": "ipython",
    "version": 3
   },
   "file_extension": ".py",
   "mimetype": "text/x-python",
   "name": "python",
   "nbconvert_exporter": "python",
   "pygments_lexer": "ipython3",
   "version": "3.7.4"
  }
 },
 "nbformat": 4,
 "nbformat_minor": 2
}
