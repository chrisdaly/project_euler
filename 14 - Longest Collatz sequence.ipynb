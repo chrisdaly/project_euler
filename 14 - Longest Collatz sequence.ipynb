{
 "cells": [
  {
   "cell_type": "markdown",
   "metadata": {},
   "source": [
    "## Description"
   ]
  },
  {
   "cell_type": "markdown",
   "metadata": {},
   "source": [
    "The following iterative sequence is defined for the set of positive integers:\n",
    "\n",
    "* n → n/2 (n is even)\n",
    "* n → 3n + 1 (n is odd)\n",
    "\n",
    "Using the rule above and starting with 13, we generate the following sequence:\n",
    "\n",
    "13 → 40 → 20 → 10 → 5 → 16 → 8 → 4 → 2 → 1\n",
    "It can be seen that this sequence (starting at 13 and finishing at 1) contains 10 terms. Although it has not been proved yet (Collatz Problem), it is thought that all starting numbers finish at 1.\n",
    "\n",
    "Which starting number, under one million, produces the longest chain?\n",
    "\n",
    "NOTE: Once the chain starts the terms are allowed to go above one million."
   ]
  },
  {
   "cell_type": "markdown",
   "metadata": {},
   "source": [
    "## Solution"
   ]
  },
  {
   "cell_type": "code",
   "execution_count": 24,
   "metadata": {},
   "outputs": [],
   "source": [
    "from utils import timer"
   ]
  },
  {
   "cell_type": "code",
   "execution_count": 25,
   "metadata": {},
   "outputs": [],
   "source": [
    "def collatz_chain_length(n: int) -> int:\n",
    "    i = 0\n",
    "    while True:\n",
    "        i += 1\n",
    "        if n == 1:\n",
    "            break\n",
    "        \n",
    "        elif n % 2 == 0:\n",
    "            n /= 2\n",
    "        \n",
    "        else: \n",
    "            n = 3*n + 1\n",
    "            \n",
    "    return i"
   ]
  },
  {
   "cell_type": "code",
   "execution_count": 26,
   "metadata": {},
   "outputs": [],
   "source": [
    "i = collatz_chain_length(13)\n",
    "assert(i) == 10"
   ]
  },
  {
   "cell_type": "code",
   "execution_count": 29,
   "metadata": {},
   "outputs": [],
   "source": [
    "@timer\n",
    "def find_max_n_chain_length(limit: int) -> dict:\n",
    "    n_max = 0\n",
    "    maximum = 0\n",
    "    for n in range(1, limit + 1):\n",
    "        i = collatz_chain_length(n)\n",
    "        if i > maximum:\n",
    "            maximum = i\n",
    "            n_max = n\n",
    "    \n",
    "    return {\n",
    "        \"length\": maximum,\n",
    "        \"n\": n_max\n",
    "    }"
   ]
  },
  {
   "cell_type": "code",
   "execution_count": 30,
   "metadata": {},
   "outputs": [
    {
     "name": "stdout",
     "output_type": "stream",
     "text": [
      "Finished 'find_max_n_chain_length' in 19.4447 secs\n"
     ]
    },
    {
     "data": {
      "text/plain": [
       "{'length': 525, 'n': 837799}"
      ]
     },
     "execution_count": 30,
     "metadata": {},
     "output_type": "execute_result"
    }
   ],
   "source": [
    "find_max_n_chain_length(10**6)"
   ]
  }
 ],
 "metadata": {
  "kernelspec": {
   "display_name": "Python 3",
   "language": "python",
   "name": "python3"
  },
  "language_info": {
   "codemirror_mode": {
    "name": "ipython",
    "version": 3
   },
   "file_extension": ".py",
   "mimetype": "text/x-python",
   "name": "python",
   "nbconvert_exporter": "python",
   "pygments_lexer": "ipython3",
   "version": "3.7.4"
  }
 },
 "nbformat": 4,
 "nbformat_minor": 2
}
