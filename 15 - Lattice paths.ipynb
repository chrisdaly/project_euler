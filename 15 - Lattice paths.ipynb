{
 "cells": [
  {
   "cell_type": "markdown",
   "metadata": {},
   "source": [
    "## Description"
   ]
  },
  {
   "cell_type": "markdown",
   "metadata": {},
   "source": [
    "Starting in the top left corner of a 2×2 grid, and only being able to move to the right and down, there are exactly 6 routes to the bottom right corner.\n",
    "\n",
    "![title](images/p015.png)\n",
    "\n",
    "How many such routes are there through a 20×20 grid?"
   ]
  },
  {
   "cell_type": "markdown",
   "metadata": {},
   "source": [
    "## Solution"
   ]
  },
  {
   "cell_type": "code",
   "execution_count": 6,
   "metadata": {},
   "outputs": [],
   "source": [
    "from functools import reduce"
   ]
  },
  {
   "cell_type": "code",
   "execution_count": 37,
   "metadata": {},
   "outputs": [],
   "source": [
    "class Grid:\n",
    "    def __init__(self, num_squares):\n",
    "        self.size = num_squares + 1\n",
    "        self.X = [[1 for _ in range(self.size)] for _ in range(self.size)]\n",
    "\n",
    "    def generate_pascals_triangle(self):\n",
    "        for i in range(1, self.size):\n",
    "            for j in range(i, self.size):\n",
    "                self.calc_point_value(i, j)\n",
    "\n",
    "    def calc_point_value(self, i, j):\n",
    "        if i-1 < 0:\n",
    "            above = 1\n",
    "        else:\n",
    "            above = self.X[i-1][j]\n",
    "\n",
    "        if j-1 < 0:\n",
    "            left = 1\n",
    "        elif j == i:\n",
    "            left = above\n",
    "        else:\n",
    "            left = self.X[i][j-1]  \n",
    "\n",
    "        value = above + left\n",
    "        self.X[i][j] = value\n",
    "        \n",
    "    @property\n",
    "    def num_routes(self) -> int:\n",
    "        self.generate_pascals_triangle()\n",
    "        return self.X[-1][-1]"
   ]
  },
  {
   "cell_type": "code",
   "execution_count": 38,
   "metadata": {},
   "outputs": [],
   "source": [
    "assert Grid(2).num_routes == 6"
   ]
  },
  {
   "cell_type": "code",
   "execution_count": 39,
   "metadata": {},
   "outputs": [
    {
     "data": {
      "text/plain": [
       "137846528820"
      ]
     },
     "execution_count": 39,
     "metadata": {},
     "output_type": "execute_result"
    }
   ],
   "source": [
    "num_squares = 20\n",
    "grid = Grid(num_squares)\n",
    "grid.num_routes"
   ]
  },
  {
   "cell_type": "markdown",
   "metadata": {},
   "source": [
    "Could also look at it as combinatorics - we need 2 right, 2 left in some order.\n",
    "```\n",
    "R R D D\n",
    "R D R D \n",
    "R D D R\n",
    "R D D R\n",
    "D R D R\n",
    "D D R R\n",
    "```"
   ]
  },
  {
   "cell_type": "code",
   "execution_count": 40,
   "metadata": {},
   "outputs": [],
   "source": [
    "def factoral(n : int) -> int:\n",
    "    numbers = range(1, n+1)\n",
    "    product = reduce(lambda x, y: x*y, numbers)\n",
    "    return product"
   ]
  },
  {
   "cell_type": "code",
   "execution_count": 41,
   "metadata": {},
   "outputs": [],
   "source": [
    "def num_combinations(n, r):\n",
    "    C = factoral(n) / (factoral(r)* factoral(n-r))\n",
    "    return C"
   ]
  },
  {
   "cell_type": "code",
   "execution_count": 42,
   "metadata": {},
   "outputs": [
    {
     "data": {
      "text/plain": [
       "137846528820.0"
      ]
     },
     "execution_count": 42,
     "metadata": {},
     "output_type": "execute_result"
    }
   ],
   "source": [
    "num_combinations(40, 20)"
   ]
  },
  {
   "cell_type": "code",
   "execution_count": null,
   "metadata": {},
   "outputs": [],
   "source": []
  }
 ],
 "metadata": {
  "kernelspec": {
   "display_name": "Python 3",
   "language": "python",
   "name": "python3"
  },
  "language_info": {
   "codemirror_mode": {
    "name": "ipython",
    "version": 3
   },
   "file_extension": ".py",
   "mimetype": "text/x-python",
   "name": "python",
   "nbconvert_exporter": "python",
   "pygments_lexer": "ipython3",
   "version": "3.7.4"
  }
 },
 "nbformat": 4,
 "nbformat_minor": 2
}
