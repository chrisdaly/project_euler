{
 "cells": [
  {
   "cell_type": "markdown",
   "metadata": {},
   "source": [
    "## Description\n",
    "\n",
    "Let d(n) be defined as the **sum of proper divisors** of n (numbers less than n which divide evenly into n).\n",
    "\n",
    "\n",
    "If d(a) = b and d(b) = a, where a ≠ b, then a and b are an amicable pair and each of a and b are called amicable numbers.\n",
    "\n",
    "For example, the proper divisors of 220 are 1, 2, 4, 5, 10, 11, 20, 22, 44, 55 and 110; therefore d(220) = 284. The proper divisors of 284 are 1, 2, 4, 71 and 142; so d(284) = 220.\n",
    "\n",
    "Evaluate the sum of all the amicable numbers under 10000."
   ]
  },
  {
   "cell_type": "code",
   "execution_count": null,
   "metadata": {},
   "outputs": [],
   "source": [
    "import math"
   ]
  },
  {
   "cell_type": "code",
   "execution_count": 60,
   "metadata": {},
   "outputs": [],
   "source": [
    "def find_proper_divisors(n: int) -> list:\n",
    "    if n == 1: \n",
    "        return []\n",
    "    divisors_all = [1]\n",
    "    for i in range(2, math.floor(math.sqrt(n)) + 1, 1):\n",
    "        if n % i == 0:\n",
    "            divisors = [i, int(n/i)]\n",
    "            divisors_all.extend(divisors)\n",
    "    divisors_all = list(set(divisors_all)) # Dedupe, sort.\n",
    "    divisors_all.sort()\n",
    "    return divisors_all"
   ]
  },
  {
   "cell_type": "code",
   "execution_count": 19,
   "metadata": {},
   "outputs": [],
   "source": [
    "n = 220\n",
    "proper_divisors = find_proper_divisors(n)\n",
    "assert sum(proper_divisors) == 284"
   ]
  },
  {
   "cell_type": "code",
   "execution_count": 20,
   "metadata": {},
   "outputs": [],
   "source": [
    "n = 284\n",
    "proper_divisors = find_proper_divisors(n)\n",
    "assert sum(proper_divisors) == 220"
   ]
  },
  {
   "cell_type": "markdown",
   "metadata": {},
   "source": [
    "## Brute force\n",
    "\n",
    "* Loop through all numbers\n",
    "* Find the sum of their proper divisors\n",
    "* When the sum exceeds 10k, break (initial limit)\n",
    "* Check the sums for their summed proper divisors\n",
    "\n",
    "I'm sure there's a more elegant way of doing this. \n",
    "\n",
    "https://en.wikipedia.org/wiki/Amicable_numbers\n"
   ]
  },
  {
   "cell_type": "code",
   "execution_count": 57,
   "metadata": {},
   "outputs": [],
   "source": [
    "results = {}\n",
    "\n",
    "limit = 10**4\n",
    "for n in range(1, limit+1, 1):\n",
    "    proper_divisors = find_proper_divisors(n)\n",
    "    results[n] = sum(proper_divisors)"
   ]
  },
  {
   "cell_type": "code",
   "execution_count": 58,
   "metadata": {},
   "outputs": [
    {
     "name": "stdout",
     "output_type": "stream",
     "text": [
      "220 284\n",
      "1184 1210\n",
      "2620 2924\n",
      "5020 5564\n",
      "6232 6368\n"
     ]
    },
    {
     "data": {
      "text/plain": [
       "[220, 284, 1184, 1210, 2620, 2924, 5020, 5564, 6232, 6368]"
      ]
     },
     "execution_count": 58,
     "metadata": {},
     "output_type": "execute_result"
    }
   ],
   "source": [
    "amicable_numbers = []\n",
    "\n",
    "for a, b in results.items():\n",
    "    if a not in amicable_numbers and b > 1: \n",
    "        b_sum = sum(find_proper_divisors(b))\n",
    "        if a == b_sum and a != b:\n",
    "            print(a, b)\n",
    "            amicable_numbers.extend([a, b])\n",
    "            \n",
    "amicable_numbers"
   ]
  },
  {
   "cell_type": "code",
   "execution_count": 59,
   "metadata": {},
   "outputs": [
    {
     "data": {
      "text/plain": [
       "31626"
      ]
     },
     "execution_count": 59,
     "metadata": {},
     "output_type": "execute_result"
    }
   ],
   "source": [
    "sum(amicable_numbers)"
   ]
  }
 ],
 "metadata": {
  "kernelspec": {
   "display_name": "Python 3",
   "language": "python",
   "name": "python3"
  },
  "language_info": {
   "codemirror_mode": {
    "name": "ipython",
    "version": 3
   },
   "file_extension": ".py",
   "mimetype": "text/x-python",
   "name": "python",
   "nbconvert_exporter": "python",
   "pygments_lexer": "ipython3",
   "version": "3.7.4"
  }
 },
 "nbformat": 4,
 "nbformat_minor": 2
}
