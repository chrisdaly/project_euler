{
 "cells": [
  {
   "cell_type": "markdown",
   "metadata": {},
   "source": [
    "## Description\n",
    "\n",
    "Let d(n) be defined as the sum of proper divisors of n (numbers less than n which divide evenly into n).\n",
    "If d(a) = b and d(b) = a, where a ≠ b, then a and b are an amicable pair and each of a and b are called amicable numbers.\n",
    "\n",
    "For example, the proper divisors of 220 are 1, 2, 4, 5, 10, 11, 20, 22, 44, 55 and 110; therefore d(220) = 284. The proper divisors of 284 are 1, 2, 4, 71 and 142; so d(284) = 220.\n",
    "\n",
    "Evaluate the sum of all the amicable numbers under 10000."
   ]
  },
  {
   "cell_type": "code",
   "execution_count": 1,
   "metadata": {},
   "outputs": [],
   "source": [
    "import math"
   ]
  },
  {
   "cell_type": "code",
   "execution_count": 17,
   "metadata": {},
   "outputs": [],
   "source": [
    "def find_proper_divisors(n: int) -> list:\n",
    "    mirror = math.floor(math.sqrt(n))\n",
    "    proper_divisors = [1]\n",
    "    for i in range(2, mirror, 1):\n",
    "        if n % i == 0:\n",
    "            amicable_pair = [i, int(n/i)]\n",
    "            proper_divisors.extend(amicable_pair)\n",
    "    proper_divisors.sort()\n",
    "    return proper_divisors"
   ]
  },
  {
   "cell_type": "code",
   "execution_count": 18,
   "metadata": {},
   "outputs": [],
   "source": [
    "n = 220\n",
    "\n",
    "proper_divisors = find_proper_divisors(n)\n",
    "assert sum(proper_divisors) == 284"
   ]
  },
  {
   "cell_type": "code",
   "execution_count": 19,
   "metadata": {},
   "outputs": [],
   "source": [
    "n = 284\n",
    "\n",
    "proper_divisors = find_proper_divisors(n)\n",
    "assert sum(proper_divisors) == 220"
   ]
  },
  {
   "cell_type": "code",
   "execution_count": 21,
   "metadata": {},
   "outputs": [],
   "source": [
    "def find_sum_of_proper_numbers(n: int) -> int:\n",
    "    proper_divisors = find_proper_divisors(n)\n",
    "    sum_ = sum(proper_divisors)\n",
    "    return sum_"
   ]
  },
  {
   "cell_type": "code",
   "execution_count": 24,
   "metadata": {},
   "outputs": [
    {
     "data": {
      "text/plain": [
       "14111"
      ]
     },
     "execution_count": 24,
     "metadata": {},
     "output_type": "execute_result"
    }
   ],
   "source": [
    "find_sum_of_proper_numbers(10000)"
   ]
  },
  {
   "cell_type": "code",
   "execution_count": 29,
   "metadata": {},
   "outputs": [
    {
     "name": "stdout",
     "output_type": "stream",
     "text": [
      "1 1\n",
      "2 1\n",
      "3 1\n",
      "4 1\n",
      "5 1\n",
      "6 1\n",
      "7 1\n",
      "8 1\n",
      "9 1\n",
      "10 8\n",
      "11 1\n",
      "12 9\n",
      "13 1\n",
      "14 10\n",
      "15 1\n",
      "16 11\n",
      "17 1\n",
      "18 21\n",
      "19 1\n",
      "20 13\n"
     ]
    }
   ],
   "source": [
    "limit = 20\n",
    "total_sum = 0 \n",
    "for n in range(1, limit + 1, 1):\n",
    "    sum_ = find_sum_of_proper_numbers(n)\n",
    "    print(n, sum_)\n",
    "    total_sum += sum_"
   ]
  },
  {
   "cell_type": "code",
   "execution_count": 28,
   "metadata": {},
   "outputs": [
    {
     "data": {
      "text/plain": [
       "86"
      ]
     },
     "execution_count": 28,
     "metadata": {},
     "output_type": "execute_result"
    }
   ],
   "source": [
    "total_sum"
   ]
  },
  {
   "cell_type": "code",
   "execution_count": null,
   "metadata": {},
   "outputs": [],
   "source": []
  }
 ],
 "metadata": {
  "kernelspec": {
   "display_name": "Python 3",
   "language": "python",
   "name": "python3"
  },
  "language_info": {
   "codemirror_mode": {
    "name": "ipython",
    "version": 3
   },
   "file_extension": ".py",
   "mimetype": "text/x-python",
   "name": "python",
   "nbconvert_exporter": "python",
   "pygments_lexer": "ipython3",
   "version": "3.7.4"
  }
 },
 "nbformat": 4,
 "nbformat_minor": 2
}
