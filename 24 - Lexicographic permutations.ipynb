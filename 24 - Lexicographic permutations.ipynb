{
 "cells": [
  {
   "cell_type": "markdown",
   "metadata": {},
   "source": [
    "## Description\n",
    "\n",
    "A permutation is an ordered arrangement of objects. For example, 3124 is one possible permutation of the digits 1, 2, 3 and 4. If all of the permutations are listed numerically or alphabetically, we call it lexicographic order. The lexicographic permutations of 0, 1 and 2 are:\n",
    "```\n",
    "012   021   102   120   201   210\n",
    "```\n",
    "What is the millionth lexicographic permutation of the digits 0, 1, 2, 3, 4, 5, 6, 7, 8 and 9?"
   ]
  },
  {
   "cell_type": "code",
   "execution_count": 13,
   "metadata": {},
   "outputs": [],
   "source": [
    "import itertools"
   ]
  },
  {
   "cell_type": "code",
   "execution_count": 50,
   "metadata": {},
   "outputs": [
    {
     "data": {
      "text/plain": [
       "['0', '1', '2', '3', '4', '5', '6', '7', '8', '9']"
      ]
     },
     "execution_count": 50,
     "metadata": {},
     "output_type": "execute_result"
    }
   ],
   "source": [
    "n = \"0123456789\"\n",
    "numbers = [x for x in str(n)]\n",
    "numbers"
   ]
  },
  {
   "cell_type": "code",
   "execution_count": 60,
   "metadata": {},
   "outputs": [],
   "source": [
    "permutations = list(itertools.permutations(numbers, len(numbers)))"
   ]
  },
  {
   "cell_type": "code",
   "execution_count": 80,
   "metadata": {},
   "outputs": [
    {
     "data": {
      "text/plain": [
       "2783915460"
      ]
     },
     "execution_count": 80,
     "metadata": {},
     "output_type": "execute_result"
    }
   ],
   "source": [
    "x = permutations[10**6 - 1]\n",
    "result = int(\"\".join(x))\n",
    "result"
   ]
  },
  {
   "cell_type": "code",
   "execution_count": 109,
   "metadata": {},
   "outputs": [],
   "source": [
    "# permutations"
   ]
  },
  {
   "cell_type": "markdown",
   "metadata": {},
   "source": [
    "## TODO\n",
    "* implement own loop/recursion and swap function\n",
    "* use factorial to deduce the number (10! = 362880, the numbers are ordered therefore the 1 millionth number m"
   ]
  },
  {
   "cell_type": "code",
   "execution_count": 100,
   "metadata": {},
   "outputs": [
    {
     "name": "stdout",
     "output_type": "stream",
     "text": [
      "9 ['0', '1', '2', '3', '4', '5', '6', '7', '8'] []\n",
      "8 ['0', '1', '2', '3', '4', '5', '6', '7'] ['9']\n",
      "7 ['0', '1', '2', '3', '4', '5', '6'] ['8', '9']\n",
      "6 ['0', '1', '2', '3', '4', '5'] ['7', '8', '9']\n",
      "5 ['0', '1', '2', '3', '4'] ['6', '7', '8', '9']\n",
      "4 ['0', '1', '2', '3'] ['5', '6', '7', '8', '9']\n",
      "3 ['0', '1', '2'] ['4', '5', '6', '7', '8', '9']\n",
      "2 ['0', '1'] ['3', '4', '5', '6', '7', '8', '9']\n",
      "1 ['0'] ['2', '3', '4', '5', '6', '7', '8', '9']\n"
     ]
    }
   ],
   "source": [
    "permutations = []\n",
    "\n",
    "for i in range(len(numbers)-1, 0, -1):\n",
    "    fixed = numbers[:i]\n",
    "    rearrange = numbers[i+1:]\n",
    "    print(i, fixed, rearrange)"
   ]
  },
  {
   "cell_type": "code",
   "execution_count": 101,
   "metadata": {},
   "outputs": [],
   "source": [
    "rearrange = ['7', '8', '9']"
   ]
  },
  {
   "cell_type": "code",
   "execution_count": 108,
   "metadata": {},
   "outputs": [
    {
     "name": "stdout",
     "output_type": "stream",
     "text": [
      "9\n",
      "['7', '8']\n",
      "8\n",
      "['7']\n"
     ]
    }
   ],
   "source": [
    "for j in range(len(rearrange)-1, 0, -1):\n",
    "    print(rearrange[j])\n",
    "    temp = rearrange[:j]\n",
    "    print(temp)"
   ]
  },
  {
   "cell_type": "code",
   "execution_count": null,
   "metadata": {},
   "outputs": [],
   "source": []
  }
 ],
 "metadata": {
  "kernelspec": {
   "display_name": "Python 3",
   "language": "python",
   "name": "python3"
  },
  "language_info": {
   "codemirror_mode": {
    "name": "ipython",
    "version": 3
   },
   "file_extension": ".py",
   "mimetype": "text/x-python",
   "name": "python",
   "nbconvert_exporter": "python",
   "pygments_lexer": "ipython3",
   "version": "3.7.4"
  }
 },
 "nbformat": 4,
 "nbformat_minor": 2
}
