{
 "cells": [
  {
   "cell_type": "markdown",
   "metadata": {},
   "source": [
    "## Description\n",
    "\n",
    "A unit fraction contains 1 in the numerator. The decimal representation of the unit fractions with denominators 2 to 10 are given:\n",
    "```\n",
    "1/2\t= \t0.5\n",
    "1/3\t= \t0.(3)\n",
    "1/4\t= \t0.25\n",
    "1/5\t= \t0.2\n",
    "1/6\t= \t0.1(6)\n",
    "1/7\t= \t0.(142857)\n",
    "1/8\t= \t0.125\n",
    "1/9\t= \t0.(1)\n",
    "1/10\t= \t0.1\n",
    "```\n",
    "Where 0.1(6) means 0.166666..., and has a 1-digit recurring cycle. It can be seen that 1/7 has a 6-digit recurring cycle.\n",
    "\n",
    "Find the value of d < 1000 for which 1/d contains the longest recurring cycle in its decimal fraction part."
   ]
  },
  {
   "cell_type": "code",
   "execution_count": 25,
   "metadata": {},
   "outputs": [],
   "source": [
    "def find_size_of_cycle(divisor: int, numerator: int=1) -> int:\n",
    "    cycle = []\n",
    "    while True:\n",
    "        remainder = numerator % divisor\n",
    "        # print(f\"{remainder} = {numerator} % {divisor}\")\n",
    "        if remainder == 0 or remainder in cycle:\n",
    "            break\n",
    "        else:\n",
    "            cycle.append(remainder)\n",
    "            numerator = remainder * 10\n",
    "\n",
    "    return len(cycle)"
   ]
  },
  {
   "cell_type": "code",
   "execution_count": 30,
   "metadata": {},
   "outputs": [],
   "source": [
    "assert find_size_of_cycle(2) == 1\n",
    "assert find_size_of_cycle(3) == 1\n",
    "assert find_size_of_cycle(4) == 2\n",
    "assert find_size_of_cycle(5) == 1\n",
    "assert find_size_of_cycle(6) == 2\n",
    "assert find_size_of_cycle(7) == 6\n",
    "assert find_size_of_cycle(8) == 3\n",
    "assert find_size_of_cycle(9) == 1\n",
    "assert find_size_of_cycle(10) == 1"
   ]
  },
  {
   "cell_type": "code",
   "execution_count": 32,
   "metadata": {},
   "outputs": [],
   "source": [
    "max_cycle_size = 0\n",
    "max_divisor = 0\n",
    "\n",
    "for d in range(2, 1000+1):\n",
    "    cycle_size = find_size_of_cycle(d)\n",
    "    if cycle_size > max_cycle_size:\n",
    "        max_cycle_size = cycle_size\n",
    "        max_divisor = d\n"
   ]
  },
  {
   "cell_type": "code",
   "execution_count": 35,
   "metadata": {},
   "outputs": [
    {
     "data": {
      "text/plain": [
       "983"
      ]
     },
     "execution_count": 35,
     "metadata": {},
     "output_type": "execute_result"
    }
   ],
   "source": [
    "max_divisor"
   ]
  },
  {
   "cell_type": "markdown",
   "metadata": {},
   "source": [
    "## Notes\n",
    "Try dividing 5 million by 7, noting the remainders on top. You've reached a cycle when you get a 0, or a number you've already seen before. The maximum size of a cycle is one less than the divisor."
   ]
  }
 ],
 "metadata": {
  "kernelspec": {
   "display_name": "Python 3",
   "language": "python",
   "name": "python3"
  },
  "language_info": {
   "codemirror_mode": {
    "name": "ipython",
    "version": 3
   },
   "file_extension": ".py",
   "mimetype": "text/x-python",
   "name": "python",
   "nbconvert_exporter": "python",
   "pygments_lexer": "ipython3",
   "version": "3.7.4"
  }
 },
 "nbformat": 4,
 "nbformat_minor": 2
}
