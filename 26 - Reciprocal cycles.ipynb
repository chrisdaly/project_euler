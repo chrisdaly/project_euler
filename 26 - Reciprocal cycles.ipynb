{
 "cells": [
  {
   "cell_type": "markdown",
   "metadata": {},
   "source": [
    "## Description\n",
    "\n",
    "A unit fraction contains 1 in the numerator. The decimal representation of the unit fractions with denominators 2 to 10 are given:\n",
    "```\n",
    "1/2\t= \t0.5\n",
    "1/3\t= \t0.(3)\n",
    "1/4\t= \t0.25\n",
    "1/5\t= \t0.2\n",
    "1/6\t= \t0.1(6)\n",
    "1/7\t= \t0.(142857)\n",
    "1/8\t= \t0.125\n",
    "1/9\t= \t0.(1)\n",
    "1/10\t= \t0.1\n",
    "```\n",
    "Where 0.1(6) means 0.166666..., and has a 1-digit recurring cycle. It can be seen that 1/7 has a 6-digit recurring cycle.\n",
    "\n",
    "Find the value of d < 1000 for which 1/d contains the longest recurring cycle in its decimal fraction part."
   ]
  },
  {
   "cell_type": "code",
   "execution_count": 27,
   "metadata": {},
   "outputs": [
    {
     "data": {
      "text/plain": [
       "0.14285714285714285"
      ]
     },
     "execution_count": 27,
     "metadata": {},
     "output_type": "execute_result"
    }
   ],
   "source": [
    "1/7"
   ]
  },
  {
   "cell_type": "code",
   "execution_count": 28,
   "metadata": {},
   "outputs": [
    {
     "data": {
      "text/plain": [
       "1"
      ]
     },
     "execution_count": 28,
     "metadata": {},
     "output_type": "execute_result"
    }
   ],
   "source": [
    "remainder = 1%7\n",
    "remainder"
   ]
  },
  {
   "cell_type": "code",
   "execution_count": 30,
   "metadata": {},
   "outputs": [
    {
     "data": {
      "text/plain": [
       "3"
      ]
     },
     "execution_count": 30,
     "metadata": {},
     "output_type": "execute_result"
    }
   ],
   "source": [
    "(remainder * 10 ) % 7"
   ]
  },
  {
   "cell_type": "code",
   "execution_count": 25,
   "metadata": {},
   "outputs": [],
   "source": [
    "remainder = 1%3\n",
    "remainder *= 10\n",
    "# remainder = remainder%3\n"
   ]
  },
  {
   "cell_type": "code",
   "execution_count": 26,
   "metadata": {},
   "outputs": [
    {
     "data": {
      "text/plain": [
       "10"
      ]
     },
     "execution_count": 26,
     "metadata": {},
     "output_type": "execute_result"
    }
   ],
   "source": [
    "remainder"
   ]
  },
  {
   "cell_type": "code",
   "execution_count": 23,
   "metadata": {},
   "outputs": [
    {
     "data": {
      "text/plain": [
       "1"
      ]
     },
     "execution_count": 23,
     "metadata": {},
     "output_type": "execute_result"
    }
   ],
   "source": [
    "remainder"
   ]
  },
  {
   "cell_type": "code",
   "execution_count": 1,
   "metadata": {},
   "outputs": [],
   "source": [
    "from utils import timer\n",
    "from decimal import *\n",
    "\n",
    "getcontext().prec = 10000"
   ]
  },
  {
   "cell_type": "code",
   "execution_count": 2,
   "metadata": {},
   "outputs": [],
   "source": [
    "def find_recurring_cycle(limit: int) -> int:\n",
    "    max_num_digits = 0\n",
    "    d = 0\n",
    "\n",
    "    for x in range(2, limit, 1):\n",
    "        y = str(Decimal(1) / Decimal(x)).split(\".\")[1]\n",
    "        l = len(y)\n",
    "\n",
    "        first = y[0]\n",
    "        cycle = None\n",
    "        for i in range(2, int(l)):\n",
    "            current = y[i]\n",
    "            if current == first:\n",
    "#                 print(f\"\\t{i} {current}\")\n",
    "                if y[0:i] == y[i:i*2]:\n",
    "#                     print(f\"cycle found: {cycle}\")\n",
    "                    cycle = y[0:i]\n",
    "                    num_digits = len(cycle)\n",
    "                    print(x, num_digits, cycle)\n",
    "                    if num_digits >= max_num_digits:\n",
    "                        max_num_digits = num_digits\n",
    "                        d = x\n",
    "                    break\n",
    "    return d"
   ]
  },
  {
   "cell_type": "code",
   "execution_count": 3,
   "metadata": {},
   "outputs": [
    {
     "name": "stdout",
     "output_type": "stream",
     "text": [
      "3 2 33\n",
      "7 6 142857\n",
      "9 2 11\n"
     ]
    },
    {
     "data": {
      "text/plain": [
       "7"
      ]
     },
     "execution_count": 3,
     "metadata": {},
     "output_type": "execute_result"
    }
   ],
   "source": [
    "find_recurring_cycle(10)"
   ]
  },
  {
   "cell_type": "code",
   "execution_count": 4,
   "metadata": {},
   "outputs": [
    {
     "name": "stdout",
     "output_type": "stream",
     "text": [
      "3 2 33\n",
      "7 6 142857\n",
      "9 2 11\n"
     ]
    }
   ],
   "source": [
    "assert find_recurring_cycle(10) == 7"
   ]
  },
  {
   "cell_type": "code",
   "execution_count": 5,
   "metadata": {},
   "outputs": [
    {
     "name": "stdout",
     "output_type": "stream",
     "text": [
      "3 2 33\n",
      "7 6 142857\n",
      "9 2 11\n",
      "11 2 09\n",
      "13 6 076923\n",
      "21 6 047619\n",
      "27 3 037\n",
      "33 2 03\n",
      "37 3 027\n",
      "39 6 025641\n",
      "41 5 02439\n",
      "53 13 0188679245283\n",
      "63 6 015873\n",
      "73 8 01369863\n",
      "77 6 012987\n",
      "79 13 0126582278481\n",
      "81 9 012345679\n",
      "91 6 010989\n",
      "99 2 01\n",
      "101 4 0099\n",
      "111 3 009\n",
      "117 6 008547\n",
      "123 5 00813\n",
      "137 8 00729927\n",
      "143 6 006993\n",
      "159 13 0062893081761\n",
      "189 6 005291\n",
      "219 8 00456621\n",
      "231 6 004329\n",
      "237 13 0042194092827\n",
      "239 7 0041841\n",
      "259 6 003861\n",
      "271 5 00369\n",
      "273 6 003663\n",
      "279 15 003584229390681\n",
      "297 6 003367\n",
      "303 4 0033\n",
      "333 3 003\n",
      "351 6 002849\n",
      "369 5 00271\n",
      "407 6 002457\n",
      "411 8 00243309\n",
      "429 6 002331\n",
      "451 10 0022172949\n",
      "477 13 0020964360587\n",
      "481 6 002079\n",
      "657 8 00152207\n",
      "693 6 001443\n",
      "707 12 001414427157\n",
      "711 13 0014064697609\n",
      "717 7 0013947\n",
      "777 6 001287\n",
      "803 8 00124533\n",
      "813 5 00123\n",
      "819 6 001221\n",
      "837 15 001194743130227\n",
      "909 4 0011\n",
      "999 3 001\n"
     ]
    },
    {
     "data": {
      "text/plain": [
       "837"
      ]
     },
     "execution_count": 5,
     "metadata": {},
     "output_type": "execute_result"
    }
   ],
   "source": [
    "find_recurring_cycle(1000)"
   ]
  },
  {
   "cell_type": "code",
   "execution_count": 6,
   "metadata": {},
   "outputs": [
    {
     "data": {
      "text/plain": [
       "'001017293997965412004069175992'"
      ]
     },
     "execution_count": 6,
     "metadata": {},
     "output_type": "execute_result"
    }
   ],
   "source": [
    "x = 983\n",
    "str(Decimal(1) / Decimal(x)).split(\".\")[1]"
   ]
  },
  {
   "cell_type": "code",
   "execution_count": 128,
   "metadata": {},
   "outputs": [
    {
     "data": {
      "text/plain": [
       "1"
      ]
     },
     "execution_count": 128,
     "metadata": {},
     "output_type": "execute_result"
    }
   ],
   "source": [
    "i"
   ]
  },
  {
   "cell_type": "code",
   "execution_count": 9,
   "metadata": {},
   "outputs": [
    {
     "data": {
      "text/plain": [
       "Decimal('0.001017293997965412004069175992')"
      ]
     },
     "execution_count": 9,
     "metadata": {},
     "output_type": "execute_result"
    }
   ],
   "source": [
    "Decimal(1) / Decimal(x)"
   ]
  },
  {
   "cell_type": "code",
   "execution_count": 11,
   "metadata": {},
   "outputs": [
    {
     "data": {
      "text/plain": [
       "1.0"
      ]
     },
     "execution_count": 11,
     "metadata": {},
     "output_type": "execute_result"
    }
   ],
   "source": [
    "0.001017293997965412004069175992 * 983"
   ]
  },
  {
   "cell_type": "code",
   "execution_count": 8,
   "metadata": {},
   "outputs": [
    {
     "data": {
      "text/plain": [
       "837"
      ]
     },
     "execution_count": 8,
     "metadata": {},
     "output_type": "execute_result"
    }
   ],
   "source": [
    "# Incorrect\n",
    "53\n",
    "279\n",
    "837"
   ]
  },
  {
   "cell_type": "code",
   "execution_count": 14,
   "metadata": {},
   "outputs": [
    {
     "data": {
      "text/plain": [
       "1.017293997965412"
      ]
     },
     "execution_count": 14,
     "metadata": {},
     "output_type": "execute_result"
    }
   ],
   "source": [
    "1000 / 983"
   ]
  },
  {
   "cell_type": "code",
   "execution_count": null,
   "metadata": {},
   "outputs": [],
   "source": []
  }
 ],
 "metadata": {
  "kernelspec": {
   "display_name": "Python 3",
   "language": "python",
   "name": "python3"
  },
  "language_info": {
   "codemirror_mode": {
    "name": "ipython",
    "version": 3
   },
   "file_extension": ".py",
   "mimetype": "text/x-python",
   "name": "python",
   "nbconvert_exporter": "python",
   "pygments_lexer": "ipython3",
   "version": "3.7.4"
  }
 },
 "nbformat": 4,
 "nbformat_minor": 2
}
