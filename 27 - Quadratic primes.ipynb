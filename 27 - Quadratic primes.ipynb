{
 "cells": [
  {
   "cell_type": "markdown",
   "metadata": {},
   "source": [
    "## Description\n",
    "\n",
    "Euler discovered the remarkable quadratic formula:\n",
    "\n",
    "*$n^2$ + n + 41*\n",
    "\n",
    "It turns out that the formula will produce 40 primes for the consecutive integer values 0≤n≤39. However, when n=40,402+40+41=40(40+1)+41 is divisible by 41, and certainly when n=41,412+41+41 is clearly divisible by 41.\n",
    "\n",
    "The incredible formula $n^2$ − 79n + 1601 was discovered, which produces 80 primes for the consecutive values 0 ≤ n ≤ 79. The product of the coefficients, −79 and 1601, is −126479.\n",
    "\n",
    "\n",
    " \n",
    "Considering quadratics of the form:\n",
    "\n",
    "$n^2$ + an + b, where |a|<1000 and |b|≤1000\n",
    "\n",
    "where |n| is the modulus/absolute value of n\n",
    "e.g. |11|=11 and |−4|=4\n",
    "Find the product of the coefficients, a and b, for the quadratic expression that produces the maximum number of primes for consecutive values of n, starting with n=0.\n",
    "\n",
    "____ \n",
    "\n",
    "*$n^2$ + n + 41*\n",
    "\n",
    "*$n^2$ − 79n + 1601*"
   ]
  },
  {
   "cell_type": "markdown",
   "metadata": {},
   "source": [
    "## Thoughts\n",
    "\n",
    "### Brute force\n",
    "for a, b, n, loop from 1 -> 1000\n",
    "generate x = $n^2$ + an + b\n",
    "check if x is a prime\n",
    "count number of primes for that combo of a, b, n\n",
    "\n",
    "\n",
    "### Maybe smarter\n",
    "41, 79 and 1601 are all primes. However, 1 (n) is not a prime. Pattern?\n",
    "Check 1 -> 10, to see if non primes for a, b deliver primes. \n",
    "\n",
    "Find all primes < 1000, and use them as a, b."
   ]
  },
  {
   "cell_type": "code",
   "execution_count": 1,
   "metadata": {},
   "outputs": [],
   "source": [
    "import math\n",
    "import tqdm"
   ]
  },
  {
   "cell_type": "code",
   "execution_count": 2,
   "metadata": {},
   "outputs": [],
   "source": [
    "def euler_formula(n: int) -> int:\n",
    "    if n >= 0 and n <= 39:\n",
    "        prime = n**2 + n + 41\n",
    "        return prime\n",
    "\n",
    "def prime_formula(n: int) -> int:\n",
    "    if n >= 0 and n <= 79:\n",
    "        prime = n**2 - 79*n + 1601\n",
    "        return prime"
   ]
  },
  {
   "cell_type": "code",
   "execution_count": 3,
   "metadata": {},
   "outputs": [
    {
     "output_type": "execute_result",
     "data": {
      "text/plain": "True"
     },
     "metadata": {},
     "execution_count": 3
    }
   ],
   "source": [
    "def number_is_prime(number: int) -> bool:\n",
    "    if number == 2:\n",
    "        return True\n",
    "    \n",
    "    if number == 1 or (number % 2) == 0 :\n",
    "        return False\n",
    "\n",
    "    # Only need to until where r * r <= n\n",
    "    r = math.floor(math.sqrt(number))\n",
    "    possible_divisors = list(range(2, r+1))\n",
    "\n",
    "    remainders_evenly_divisable = [number % x == 0 for x in possible_divisors]\n",
    "    return not any(remainders_evenly_divisable)\n",
    "\n",
    "number_is_prime(41)"
   ]
  },
  {
   "cell_type": "code",
   "execution_count": 5,
   "metadata": {},
   "outputs": [],
   "source": [
    "def find_consecutive_primes(a: int, b: int) -> list:\n",
    "    n = 0\n",
    "    primes = []\n",
    "\n",
    "    while True:\n",
    "        result = n**2 + a*n + b\n",
    "        if result > 0 and number_is_prime(result):\n",
    "            # print(f\"\\t{result} = {n}**2 + {a}*{n} + {b}\")\n",
    "            primes.append(result)\n",
    "            n += 1\n",
    "        else:\n",
    "            break\n",
    "\n",
    "    return primes"
   ]
  },
  {
   "cell_type": "code",
   "execution_count": 6,
   "metadata": {
    "tags": [
     "outputPrepend",
     "outputPrepend",
     "outputPrepend",
     "outputPrepend",
     "outputPrepend",
     "outputPrepend",
     "outputPrepend",
     "outputPrepend",
     "outputPrepend",
     "outputPrepend",
     "outputPrepend",
     "outputPrepend",
     "outputPrepend"
    ]
   },
   "outputs": [],
   "source": [
    "assert len(find_consecutive_primes(a=1, b=41)) == 40\n",
    "assert len(find_consecutive_primes(a=-79, b=1601)) == 80"
   ]
  },
  {
   "cell_type": "code",
   "execution_count": 7,
   "metadata": {
    "tags": [
     "outputPrepend",
     "outputPrepend",
     "outputPrepend"
    ]
   },
   "outputs": [
    {
     "output_type": "display_data",
     "data": {
      "text/plain": "HBox(children=(IntProgress(value=0, max=999), HTML(value='')))",
      "application/vnd.jupyter.widget-view+json": {
       "version_major": 2,
       "version_minor": 0,
       "model_id": "e4e212f6cce540a592b59bda07e8ca18"
      }
     },
     "metadata": {}
    },
    {
     "output_type": "stream",
     "name": "stdout",
     "text": "\n"
    }
   ],
   "source": [
    "max_num_primes = 0\n",
    "max_a = 0\n",
    "max_b = 0\n",
    "\n",
    "limit = 1000\n",
    "\n",
    "for a in tqdm.tqdm_notebook(range(1, limit)):\n",
    "    for sign in [1, -1]:\n",
    "        a *=sign\n",
    "        for b in range(1, limit+1):\n",
    "            for sign in [1, -1]:\n",
    "                b *= sign\n",
    "                # print(f\"\\na = {a}, b = {b}\")\n",
    "                primes = find_consecutive_primes(a=a, b=b)\n",
    "                # print(f\"{a} {b} {len(primes)}\")\n",
    "\n",
    "                num_primes = len(primes)\n",
    "                if  num_primes > max_num_primes:\n",
    "                    max_num_primes = num_primes\n",
    "                    max_a = a\n",
    "                    max_b = b"
   ]
  },
  {
   "cell_type": "code",
   "execution_count": 8,
   "metadata": {},
   "outputs": [
    {
     "output_type": "stream",
     "name": "stdout",
     "text": "a: -61 b: 971 num_primes: 71\n"
    }
   ],
   "source": [
    "print(f\"a: {max_a} b: {max_b} num_primes: {max_num_primes}\")"
   ]
  },
  {
   "cell_type": "code",
   "execution_count": 9,
   "metadata": {},
   "outputs": [
    {
     "output_type": "execute_result",
     "data": {
      "text/plain": "-59231"
     },
     "metadata": {},
     "execution_count": 9
    }
   ],
   "source": [
    "max_a * max_b"
   ]
  },
  {
   "cell_type": "code",
   "execution_count": null,
   "metadata": {},
   "outputs": [],
   "source": []
  }
 ],
 "metadata": {
  "kernelspec": {
   "display_name": "Python 3",
   "language": "python",
   "name": "python3"
  },
  "language_info": {
   "codemirror_mode": {
    "name": "ipython",
    "version": 3
   },
   "file_extension": ".py",
   "mimetype": "text/x-python",
   "name": "python",
   "nbconvert_exporter": "python",
   "pygments_lexer": "ipython3",
   "version": "3.8.1-final"
  }
 },
 "nbformat": 4,
 "nbformat_minor": 2
}