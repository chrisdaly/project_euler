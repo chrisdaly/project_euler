{
 "cells": [
  {
   "cell_type": "markdown",
   "metadata": {},
   "source": [
    "## Description\n",
    "\n",
    "\n",
    "Starting with the number 1 and moving to the right in a clockwise direction a 5 by 5 spiral is formed as follows:\n",
    "\n",
    "21 22 23 24 25\n",
    "20  7  8  9 10\n",
    "19  6  1  2 11\n",
    "18  5  4  3 12\n",
    "17 16 15 14 13\n",
    "\n",
    "It can be verified that the sum of the numbers on the diagonals is 101.\n",
    "\n",
    "What is the sum of the numbers on the diagonals in a 1001 by 1001 spiral formed in the same way?"
   ]
  },
  {
   "cell_type": "code",
   "execution_count": 8,
   "metadata": {},
   "outputs": [],
   "source": [
    "a = lambda n: (2*n + 1)**2 # The top right number is equal to the area of the square formed.\n",
    "b = lambda n: (2*n + 1)**2 - (2*n) # Top left is equal to the top right minus the gap size\n",
    "c = lambda n: (2*n + 1)**2 - 2*(2*n)\n",
    "d = lambda n: (2*n + 1)**2 - 3*(2*n)\n",
    "\n",
    "assert a(1) == 9\n",
    "assert b(1) == 7\n",
    "assert c(1) == 5\n",
    "assert d(1) == 3"
   ]
  },
  {
   "cell_type": "code",
   "execution_count": 9,
   "metadata": {},
   "outputs": [],
   "source": [
    "x = lambda n: a(n) + b(n) + c(n) + d(n)\n",
    "x = lambda n: 4*(2*n + 1)** 2 - 6*(2*n)\n",
    "\n",
    "assert x(1) == 24"
   ]
  },
  {
   "cell_type": "code",
   "execution_count": 10,
   "metadata": {},
   "outputs": [],
   "source": [
    "def calc_sum_of_spiral_diagonals(size_of_side: int) -> int:\n",
    "    num_layers = int((size_of_side - 1) / 2)\n",
    "    summed = 1 # n == 0 is a point, special case.\n",
    "    for n in range(1, num_layers+1):\n",
    "        summed += x(n)\n",
    "    return summed"
   ]
  },
  {
   "cell_type": "code",
   "execution_count": 11,
   "metadata": {},
   "outputs": [],
   "source": [
    "assert calc_sum_of_spiral_diagonals(5) == 101"
   ]
  },
  {
   "cell_type": "code",
   "execution_count": 12,
   "metadata": {},
   "outputs": [
    {
     "output_type": "execute_result",
     "data": {
      "text/plain": "669171001"
     },
     "metadata": {},
     "execution_count": 12
    }
   ],
   "source": [
    "calc_sum_of_spiral_diagonals(1001)"
   ]
  }
 ],
 "metadata": {
  "language_info": {
   "codemirror_mode": {
    "name": "ipython",
    "version": 3
   },
   "file_extension": ".py",
   "mimetype": "text/x-python",
   "name": "python",
   "nbconvert_exporter": "python",
   "pygments_lexer": "ipython3",
   "version": "3.8.1-final"
  },
  "orig_nbformat": 2,
  "kernelspec": {
   "name": "python38164bit7c9f68b00d324237a1fa6e4a0f1e832c",
   "display_name": "Python 3.8.1 64-bit"
  }
 },
 "nbformat": 4,
 "nbformat_minor": 2
}