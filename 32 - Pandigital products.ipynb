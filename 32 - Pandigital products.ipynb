{
 "cells": [
  {
   "cell_type": "markdown",
   "metadata": {},
   "source": [
    "## Description\n",
    "\n",
    "We shall say that an n-digit number is pandigital if it makes use of all the digits 1 to n exactly once; for example, the 5-digit number, 15234, is 1 through 5 pandigital.\n",
    "\n",
    "The product 7254 is unusual, as the identity, 39 × 186 = 7254, containing multiplicand, multiplier, and product is 1 through 9 pandigital.\n",
    "\n",
    "Find the sum of all products whose multiplicand/multiplier/product identity can be written as a 1 through 9 pandigital.\n",
    "\n",
    "HINT: Some products can be obtained in more than one way so be sure to only include it once in your sum."
   ]
  },
  {
   "cell_type": "code",
   "execution_count": 1,
   "metadata": {},
   "outputs": [],
   "source": [
    "import itertools"
   ]
  },
  {
   "cell_type": "code",
   "execution_count": 8,
   "metadata": {},
   "outputs": [],
   "source": [
    "def has_doubles(n: int) -> bool:\n",
    "    return len(set(str(n))) < len(str(n))"
   ]
  },
  {
   "cell_type": "code",
   "execution_count": 9,
   "metadata": {},
   "outputs": [],
   "source": [
    "# def is_pandigital(joined: list) -> bool:\n",
    "#     if len(set(joined)) != 9:\n",
    "#         return False\n",
    "\n",
    "#     left_out_numbers = set(numbers) - set(joined)\n",
    "#     if len(left_out_numbers) == 0:\n",
    "#         return True\n",
    "#     else:\n",
    "#         return False"
   ]
  },
  {
   "cell_type": "code",
   "execution_count": 10,
   "metadata": {},
   "outputs": [],
   "source": [
    "def split_number_into_list(x: int) -> list:\n",
    "    return [int(x) for x in (list(str(x)))]\n",
    "\n",
    "def permutation_to_number(p: tuple) -> int:\n",
    "    return int(\"\".join([str(_) for _ in list(p)]))"
   ]
  },
  {
   "cell_type": "code",
   "execution_count": 11,
   "metadata": {},
   "outputs": [
    {
     "data": {
      "text/plain": [
       "[1, 2, 3, 4, 5, 6, 7, 8, 9]"
      ]
     },
     "execution_count": 11,
     "metadata": {},
     "output_type": "execute_result"
    }
   ],
   "source": [
    "numbers = list(range(1, 10))\n",
    "numbers"
   ]
  },
  {
   "cell_type": "code",
   "execution_count": 52,
   "metadata": {},
   "outputs": [],
   "source": [
    "multiplicands = [x for x in list(range(11, 99)) if x % 10 != 0 and not has_doubles(x)]\n",
    "\n",
    "results = []\n",
    "for x in multiplicands:\n",
    "    remaining_numbers = set(numbers) - set(split_number_into_list(x))\n",
    "    permutations = list(itertools.permutations(remaining_numbers, 3))\n",
    "    for p in permutations:\n",
    "        y = permutation_to_number(p)\n",
    "\n",
    "        numbers_already_seen = set(split_number_into_list(x))\n",
    "        numbers_already_seen.update(set(split_number_into_list(y)))\n",
    "        remaining_numbers = list(set(numbers) - numbers_already_seen)\n",
    "        \n",
    "        z = x * y\n",
    "        if len(str(z)) > 4:\n",
    "            break\n",
    "            \n",
    "        possible_answers = [permutation_to_number(_) for _ in list(itertools.permutations(remaining_numbers, 4))]\n",
    "        if z in possible_answers:\n",
    "            results.append({\"x\": x, \"y\": y, \"z\": z})            "
   ]
  },
  {
   "cell_type": "code",
   "execution_count": null,
   "metadata": {},
   "outputs": [],
   "source": [
    "results = []\n",
    "for i in range(1, 999):\n",
    "    "
   ]
  },
  {
   "cell_type": "code",
   "execution_count": 58,
   "metadata": {},
   "outputs": [],
   "source": [
    "multiplicands = list(range(1, 10))\n",
    "\n",
    "for x in multiplicands:\n",
    "    remaining_numbers = set(numbers) - set(split_number_into_list(x))\n",
    "    permutations = list(itertools.permutations(remaining_numbers, 4))\n",
    "    for p in permutations:\n",
    "        y = permutation_to_number(p)\n",
    "\n",
    "        numbers_already_seen = set(split_number_into_list(x))\n",
    "        numbers_already_seen.update(set(split_number_into_list(y)))\n",
    "        remaining_numbers = list(set(numbers) - numbers_already_seen)\n",
    "        \n",
    "        z = x * y\n",
    "        if len(str(z)) > 4:\n",
    "            break\n",
    "            \n",
    "        possible_answers = [permutation_to_number(_) for _ in list(itertools.permutations(remaining_numbers, 4))]\n",
    "        if z in possible_answers:\n",
    "            results.append({\"x\": x, \"y\": y, \"z\": z})            "
   ]
  },
  {
   "cell_type": "code",
   "execution_count": 61,
   "metadata": {},
   "outputs": [
    {
     "data": {
      "text/plain": [
       "[{'x': 12, 'y': 483, 'z': 5796},\n",
       " {'x': 18, 'y': 297, 'z': 5346},\n",
       " {'x': 27, 'y': 198, 'z': 5346},\n",
       " {'x': 28, 'y': 157, 'z': 4396},\n",
       " {'x': 39, 'y': 186, 'z': 7254},\n",
       " {'x': 42, 'y': 138, 'z': 5796},\n",
       " {'x': 48, 'y': 159, 'z': 7632},\n",
       " {'x': 4, 'y': 1738, 'z': 6952},\n",
       " {'x': 4, 'y': 1963, 'z': 7852}]"
      ]
     },
     "execution_count": 61,
     "metadata": {},
     "output_type": "execute_result"
    }
   ],
   "source": [
    "results"
   ]
  },
  {
   "cell_type": "code",
   "execution_count": 62,
   "metadata": {},
   "outputs": [
    {
     "data": {
      "text/plain": [
       "45228"
      ]
     },
     "execution_count": 62,
     "metadata": {},
     "output_type": "execute_result"
    }
   ],
   "source": [
    "sum(set([r[\"z\"] for r in results]))"
   ]
  },
  {
   "cell_type": "markdown",
   "metadata": {},
   "source": [
    "# Improvements\n",
    "could do a much better way to encompass the different lengths of numbers. 1 loop? Smarter range\n",
    "\n",
    "x of length 1, y of length 4, z of length 4\n",
    "x of length 2, y of length 3, z of length 4"
   ]
  },
  {
   "cell_type": "code",
   "execution_count": null,
   "metadata": {},
   "outputs": [],
   "source": []
  }
 ],
 "metadata": {
  "kernelspec": {
   "display_name": "Python 3.8.1 64-bit",
   "language": "python",
   "name": "python38164bit7c9f68b00d324237a1fa6e4a0f1e832c"
  },
  "language_info": {
   "codemirror_mode": {
    "name": "ipython",
    "version": 3
   },
   "file_extension": ".py",
   "mimetype": "text/x-python",
   "name": "python",
   "nbconvert_exporter": "python",
   "pygments_lexer": "ipython3",
   "version": "3.8.1"
  }
 },
 "nbformat": 4,
 "nbformat_minor": 2
}
