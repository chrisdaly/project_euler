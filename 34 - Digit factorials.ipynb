{
 "cells": [
  {
   "cell_type": "markdown",
   "metadata": {},
   "source": [
    "## Description"
   ]
  },
  {
   "source": [
    "145 is a curious number, as 1! + 4! + 5! = 1 + 24 + 120 = 145.\n",
    "\n",
    "Find the sum of all numbers which are equal to the sum of the factorial of their digits.\n",
    "\n",
    "Note: As 1! = 1 and 2! = 2 are not sums they are not included."
   ],
   "cell_type": "markdown",
   "metadata": {}
  },
  {
   "cell_type": "markdown",
   "metadata": {},
   "source": [
    "## Solution"
   ]
  },
  {
   "cell_type": "code",
   "execution_count": 3,
   "metadata": {},
   "outputs": [],
   "source": [
    "from functools import reduce"
   ]
  },
  {
   "cell_type": "code",
   "execution_count": 14,
   "metadata": {},
   "outputs": [],
   "source": [
    "def factorial(n: int) -> int:\n",
    "    if n == 0:\n",
    "        return 1\n",
    "\n",
    "    return reduce(lambda x, y: x * y, [x for x in range(1, n+1, 1)])"
   ]
  },
  {
   "cell_type": "code",
   "execution_count": 20,
   "metadata": {},
   "outputs": [],
   "source": [
    "factorials = {}\n",
    "\n",
    "for i in range(0, 10):\n",
    "    v = factorial(i)\n",
    "    factorials[i] = v"
   ]
  },
  {
   "cell_type": "code",
   "execution_count": 53,
   "metadata": {},
   "outputs": [
    {
     "output_type": "stream",
     "name": "stdout",
     "text": [
      "145\n40585\n"
     ]
    }
   ],
   "source": [
    "total = 0\n",
    "for num in range(3, 10**8):\n",
    "    summed = sum([factorials[int(x)] for x in str(num)])\n",
    "    # print(num, summed)\n",
    "    if summed == num:\n",
    "        print(num)\n",
    "        total += num"
   ]
  },
  {
   "cell_type": "code",
   "execution_count": 54,
   "metadata": {},
   "outputs": [
    {
     "output_type": "execute_result",
     "data": {
      "text/plain": [
       "40730"
      ]
     },
     "metadata": {},
     "execution_count": 54
    }
   ],
   "source": [
    "total"
   ]
  },
  {
   "source": [
    "## Optimisation\n",
    "Calculating a upper bound\n",
    "\n",
    "when is the number too big for its factorials to possibly sum to it?\n",
    "\n",
    "take the max factorial => 9"
   ],
   "cell_type": "markdown",
   "metadata": {}
  },
  {
   "cell_type": "code",
   "execution_count": 55,
   "metadata": {},
   "outputs": [
    {
     "output_type": "execute_result",
     "data": {
      "text/plain": [
       "False"
      ]
     },
     "metadata": {},
     "execution_count": 55
    }
   ],
   "source": [
    "9999999  2540160"
   ]
  },
  {
   "cell_type": "code",
   "execution_count": 58,
   "metadata": {},
   "outputs": [
    {
     "output_type": "stream",
     "name": "stdout",
     "text": [
      "i:1 \tmax_num:9\t max_sum:362880\t len: 6 compare: True\ni:2 \tmax_num:99\t max_sum:725760\t len: 6 compare: True\ni:3 \tmax_num:999\t max_sum:1088640\t len: 7 compare: True\ni:4 \tmax_num:9999\t max_sum:1451520\t len: 7 compare: True\ni:5 \tmax_num:99999\t max_sum:1814400\t len: 7 compare: True\ni:6 \tmax_num:999999\t max_sum:2177280\t len: 7 compare: True\ni:7 \tmax_num:9999999\t max_sum:2540160\t len: 7 compare: False\ni:8 \tmax_num:99999999\t max_sum:2903040\t len: 7 compare: False\ni:9 \tmax_num:999999999\t max_sum:3265920\t len: 7 compare: False\ni:10 \tmax_num:9999999999\t max_sum:3628800\t len: 7 compare: False\ni:11 \tmax_num:99999999999\t max_sum:3991680\t len: 7 compare: False\ni:12 \tmax_num:999999999999\t max_sum:4354560\t len: 7 compare: False\ni:13 \tmax_num:9999999999999\t max_sum:4717440\t len: 7 compare: False\ni:14 \tmax_num:99999999999999\t max_sum:5080320\t len: 7 compare: False\ni:15 \tmax_num:999999999999999\t max_sum:5443200\t len: 7 compare: False\ni:16 \tmax_num:9999999999999999\t max_sum:5806080\t len: 7 compare: False\ni:17 \tmax_num:99999999999999999\t max_sum:6168960\t len: 7 compare: False\ni:18 \tmax_num:999999999999999999\t max_sum:6531840\t len: 7 compare: False\ni:19 \tmax_num:9999999999999999999\t max_sum:6894720\t len: 7 compare: False\ni:20 \tmax_num:99999999999999999999\t max_sum:7257600\t len: 7 compare: False\ni:21 \tmax_num:999999999999999999999\t max_sum:7620480\t len: 7 compare: False\ni:22 \tmax_num:9999999999999999999999\t max_sum:7983360\t len: 7 compare: False\ni:23 \tmax_num:99999999999999999999999\t max_sum:8346240\t len: 7 compare: False\ni:24 \tmax_num:999999999999999999999999\t max_sum:8709120\t len: 7 compare: False\ni:25 \tmax_num:9999999999999999999999999\t max_sum:9072000\t len: 7 compare: False\ni:26 \tmax_num:99999999999999999999999999\t max_sum:9434880\t len: 7 compare: False\ni:27 \tmax_num:999999999999999999999999999\t max_sum:9797760\t len: 7 compare: False\ni:28 \tmax_num:9999999999999999999999999999\t max_sum:10160640\t len: 8 compare: False\ni:29 \tmax_num:99999999999999999999999999999\t max_sum:10523520\t len: 8 compare: False\n"
     ]
    }
   ],
   "source": [
    "for i in range(1, 30):\n",
    "    max_num = str(9)*i\n",
    "    max_sum = factorial(9)*i\n",
    "    print(f\"i:{i} \\tmax_num:{max_num}\\t max_sum:{max_sum}\\t len: {len(str(max_sum))} compare: {int(max_num) < max_sum}\")"
   ]
  },
  {
   "source": [
    "it takes 28 digits before a sum of length 8 can be produced\n",
    "\n",
    "at 7 digits the maximum number has surpassed the possibility of a sum catching it => round up to 8 for good measure"
   ],
   "cell_type": "markdown",
   "metadata": {}
  },
  {
   "cell_type": "code",
   "execution_count": null,
   "metadata": {},
   "outputs": [],
   "source": []
  }
 ],
 "metadata": {
  "kernelspec": {
   "display_name": "Python 3",
   "language": "python",
   "name": "python3"
  },
  "language_info": {
   "codemirror_mode": {
    "name": "ipython",
    "version": 3
   },
   "file_extension": ".py",
   "mimetype": "text/x-python",
   "name": "python",
   "nbconvert_exporter": "python",
   "pygments_lexer": "ipython3",
   "version": "3.7.4-final"
  }
 },
 "nbformat": 4,
 "nbformat_minor": 2
}