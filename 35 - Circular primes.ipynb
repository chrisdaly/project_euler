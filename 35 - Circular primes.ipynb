{
 "metadata": {
  "language_info": {
   "codemirror_mode": {
    "name": "ipython",
    "version": 3
   },
   "file_extension": ".py",
   "mimetype": "text/x-python",
   "name": "python",
   "nbconvert_exporter": "python",
   "pygments_lexer": "ipython3",
   "version": "3.7.4-final"
  },
  "orig_nbformat": 2,
  "kernelspec": {
   "name": "python3",
   "display_name": "Python 3.7.4 64-bit ('base': conda)",
   "metadata": {
    "interpreter": {
     "hash": "560131254afc6f990cd06f421c412c452369cbc39ed6aeef06b93be6e572e65a"
    }
   }
  }
 },
 "nbformat": 4,
 "nbformat_minor": 2,
 "cells": [
  {
   "source": [
    "## Description \n",
    "\n",
    "The number, 197, is called a circular prime because all rotations of the digits: 197, 971, and 719, are themselves prime.\n",
    "\n",
    "There are thirteen such primes below 100: 2, 3, 5, 7, 11, 13, 17, 31, 37, 71, 73, 79, and 97.\n",
    "\n",
    "How many circular primes are there below one million?"
   ],
   "cell_type": "markdown",
   "metadata": {}
  },
  {
   "cell_type": "code",
   "execution_count": 14,
   "metadata": {},
   "outputs": [],
   "source": [
    "import math\n",
    "import itertools"
   ]
  },
  {
   "cell_type": "code",
   "execution_count": 15,
   "metadata": {},
   "outputs": [],
   "source": [
    "def number_is_prime(number: int) -> bool:\n",
    "    if number == 2:\n",
    "        return True\n",
    "    \n",
    "    if number == 1 or (number % 2) == 0 :\n",
    "        return False\n",
    "\n",
    "    # Only need to until where r * r <= n\n",
    "    r = math.floor(math.sqrt(number))\n",
    "    possible_divisors = list(range(2, r+1))\n",
    "\n",
    "    remainders_evenly_divisable = [number % x == 0 for x in possible_divisors]\n",
    "    return not any(remainders_evenly_divisable)"
   ]
  },
  {
   "cell_type": "code",
   "execution_count": 73,
   "metadata": {},
   "outputs": [],
   "source": [
    "def str_to_int(num: str) -> int:\n",
    "    return int(num.lstrip(\"0\"))"
   ]
  },
  {
   "cell_type": "code",
   "execution_count": 107,
   "metadata": {},
   "outputs": [],
   "source": [
    "def make_circle_list(num: int) -> list:\n",
    "    nums = [str(x) for x in str(num)]\n",
    "    circle_list = [str_to_int(\"\".join(nums))]\n",
    "    l = len(nums)\n",
    "\n",
    "    for i in range(1, l):\n",
    "        temp = []\n",
    "        for j in range(0, l):\n",
    "            temp.append(nums[(i+j)%l])\n",
    "\n",
    "        circle_num = str_to_int(\"\".join(temp))\n",
    "        circle_list.append(circle_num)\n",
    "\n",
    "    return circle_list"
   ]
  },
  {
   "cell_type": "code",
   "execution_count": 111,
   "metadata": {},
   "outputs": [],
   "source": [
    "num = 197\n",
    "circle_list = make_circle_list(num)\n",
    "all([number_is_prime(x) for x in circle_list])"
   ]
  },
  {
   "cell_type": "code",
   "execution_count": 117,
   "metadata": {},
   "outputs": [
    {
     "output_type": "stream",
     "name": "stdout",
     "text": [
      "2\n",
      "3\n",
      "5\n",
      "7\n",
      "11\n",
      "13\n",
      "17\n",
      "31\n",
      "37\n",
      "71\n",
      "73\n",
      "79\n",
      "97\n",
      "113\n",
      "131\n",
      "197\n",
      "199\n",
      "311\n",
      "337\n",
      "373\n",
      "719\n",
      "733\n",
      "919\n",
      "971\n",
      "991\n",
      "1193\n",
      "1931\n",
      "3119\n",
      "3779\n",
      "7793\n",
      "7937\n",
      "9311\n",
      "9377\n",
      "11939\n",
      "19391\n",
      "19937\n",
      "37199\n",
      "39119\n",
      "71993\n",
      "91193\n",
      "93719\n",
      "93911\n",
      "99371\n",
      "193939\n",
      "199933\n",
      "319993\n",
      "331999\n",
      "391939\n",
      "393919\n",
      "919393\n",
      "933199\n",
      "939193\n",
      "939391\n",
      "993319\n",
      "999331\n"
     ]
    }
   ],
   "source": [
    "l = []\n",
    "\n",
    "for num in range(1, 10**6):\n",
    "    circle_list = make_circle_list(num)\n",
    "    if all([number_is_prime(x) for x in circle_list]):\n",
    "        l.append(num)"
   ]
  },
  {
   "cell_type": "code",
   "execution_count": 120,
   "metadata": {},
   "outputs": [
    {
     "output_type": "execute_result",
     "data": {
      "text/plain": [
       "55"
      ]
     },
     "metadata": {},
     "execution_count": 120
    }
   ],
   "source": [
    "len(l)"
   ]
  }
 ]
}