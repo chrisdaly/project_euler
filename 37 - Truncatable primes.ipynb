{
 "cells": [
  {
   "cell_type": "markdown",
   "metadata": {},
   "source": [
    "# Description\n",
    "\n",
    "The number 3797 has an interesting property. Being prime itself, it is possible to continuously remove digits from left to right, and remain prime at each stage: 3797, 797, 97, and 7. Similarly we can work from right to left: 3797, 379, 37, and 3.\n",
    "\n",
    "Find the sum of the only eleven primes that are both truncatable from left to right and right to left.\n",
    "\n",
    "NOTE: 2, 3, 5, and 7 are not considered to be truncatable primes."
   ]
  },
  {
   "cell_type": "code",
   "execution_count": 1,
   "metadata": {},
   "outputs": [],
   "source": [
    "import math"
   ]
  },
  {
   "cell_type": "code",
   "execution_count": 2,
   "metadata": {},
   "outputs": [],
   "source": [
    "def number_is_prime(number: int) -> bool:\n",
    "    if number == 2:\n",
    "        return True\n",
    "    \n",
    "    if not isinstance(number, int) or number == 1 or (number % 2) == 0 :\n",
    "        return False\n",
    "\n",
    "    # Only need to until where r * r <= n\n",
    "    r = math.floor(math.sqrt(number))\n",
    "    possible_divisors = list(range(2, r+1))\n",
    "\n",
    "    remainders_evenly_divisable = [number % x == 0 for x in possible_divisors]\n",
    "    return not any(remainders_evenly_divisable)"
   ]
  },
  {
   "cell_type": "code",
   "execution_count": 25,
   "metadata": {},
   "outputs": [],
   "source": [
    "# Any even number, or one that ends in a 5 or 0 cannot be a prime.\n",
    "tails = [1, 3, 7]"
   ]
  },
  {
   "cell_type": "code",
   "execution_count": 26,
   "metadata": {},
   "outputs": [
    {
     "name": "stdout",
     "output_type": "stream",
     "text": [
      "SEED\tTAIL\tNUMBER\tPRIME\n",
      "7\t1\t71\t✓\n",
      "7\t3\t73\t✓\n",
      "7\t7\t77\tx\n",
      "73\t1\t731\tx\n",
      "73\t3\t733\t✓\n",
      "73\t7\t737\tx\n",
      "733\t1\t7331\t✓\n",
      "733\t3\t7333\t✓\n",
      "733\t7\t7337\tx\n",
      "7333\t1\t73331\t✓\n",
      "7333\t3\t73333\tx\n",
      "7333\t7\t73337\tx\n",
      "73331\t1\t733311\tx\n",
      "73331\t3\t733313\tx\n",
      "73331\t7\t733317\tx\n",
      "7331\t1\t73311\tx\n",
      "7331\t3\t73313\tx\n",
      "7331\t7\t73317\tx\n",
      "71\t1\t711\tx\n",
      "71\t3\t713\tx\n",
      "71\t7\t717\tx\n",
      "5\t1\t51\tx\n",
      "5\t3\t53\t✓\n",
      "5\t7\t57\tx\n",
      "53\t1\t531\tx\n",
      "53\t3\t533\tx\n",
      "53\t7\t537\tx\n",
      "3\t1\t31\t✓\n",
      "3\t3\t33\tx\n",
      "3\t7\t37\t✓\n",
      "37\t1\t371\tx\n",
      "37\t3\t373\t✓\n",
      "37\t7\t377\tx\n",
      "373\t1\t3731\tx\n",
      "373\t3\t3733\t✓\n",
      "373\t7\t3737\tx\n",
      "3733\t1\t37331\tx\n",
      "3733\t3\t37333\tx\n",
      "3733\t7\t37337\t✓\n",
      "37337\t1\t373371\tx\n",
      "37337\t3\t373373\tx\n",
      "37337\t7\t373377\tx\n",
      "31\t1\t311\t✓\n",
      "31\t3\t313\t✓\n",
      "31\t7\t317\t✓\n",
      "317\t1\t3171\tx\n",
      "317\t3\t3173\tx\n",
      "317\t7\t3177\tx\n",
      "313\t1\t3131\tx\n",
      "313\t3\t3133\tx\n",
      "313\t7\t3137\t✓\n",
      "3137\t1\t31371\tx\n",
      "3137\t3\t31373\tx\n",
      "3137\t7\t31377\tx\n",
      "311\t1\t3111\tx\n",
      "311\t3\t3113\tx\n",
      "311\t7\t3117\tx\n",
      "2\t1\t21\tx\n",
      "2\t3\t23\t✓\n",
      "2\t7\t27\tx\n",
      "23\t1\t231\tx\n",
      "23\t3\t233\t✓\n",
      "23\t7\t237\tx\n",
      "233\t1\t2331\tx\n",
      "233\t3\t2333\t✓\n",
      "233\t7\t2337\tx\n",
      "2333\t1\t23331\tx\n",
      "2333\t3\t23333\t✓\n",
      "2333\t7\t23337\tx\n",
      "23333\t1\t233331\tx\n",
      "23333\t3\t233333\tx\n",
      "23333\t7\t233337\tx\n"
     ]
    }
   ],
   "source": [
    "# One digit primes.\n",
    "heap = [x for x in range(1, 10) if number_is_prime(x)]\n",
    "\n",
    "print(f\"SEED\\tTAIL\\tNUMBER\\tPRIME\")\n",
    "\n",
    "truncatable_numbers = []\n",
    "while True:\n",
    "    if len(heap) == 0:\n",
    "        break\n",
    "    seed = heap.pop()\n",
    "    for tail in tails:\n",
    "        new_number = seed * 10 + tail\n",
    "\n",
    "        if number_is_prime(new_number):\n",
    "            print(f\"{seed}\\t{tail}\\t{new_number}\\t✓\")\n",
    "            heap.append(new_number)\n",
    "            truncatable_numbers.append(new_number)\n",
    "        else:\n",
    "            print(f\"{seed}\\t{tail}\\t{new_number}\\tx\")"
   ]
  },
  {
   "cell_type": "code",
   "execution_count": 27,
   "metadata": {},
   "outputs": [
    {
     "data": {
      "text/plain": [
       "20"
      ]
     },
     "execution_count": 27,
     "metadata": {},
     "output_type": "execute_result"
    }
   ],
   "source": [
    "len(truncatable_numbers)"
   ]
  },
  {
   "cell_type": "code",
   "execution_count": 31,
   "metadata": {},
   "outputs": [
    {
     "data": {
      "text/plain": [
       "[23,\n",
       " 31,\n",
       " 37,\n",
       " 53,\n",
       " 71,\n",
       " 73,\n",
       " 233,\n",
       " 311,\n",
       " 313,\n",
       " 317,\n",
       " 373,\n",
       " 733,\n",
       " 2333,\n",
       " 3137,\n",
       " 3733,\n",
       " 7331,\n",
       " 7333,\n",
       " 23333,\n",
       " 37337,\n",
       " 73331]"
      ]
     },
     "execution_count": 31,
     "metadata": {},
     "output_type": "execute_result"
    }
   ],
   "source": [
    "truncatable_numbers.sort()\n",
    "truncatable_numbers"
   ]
  },
  {
   "cell_type": "code",
   "execution_count": 24,
   "metadata": {},
   "outputs": [
    {
     "ename": "NameError",
     "evalue": "name 'correct' is not defined",
     "output_type": "error",
     "traceback": [
      "\u001b[0;31m---------------------------------------------------------------------------\u001b[0m",
      "\u001b[0;31mNameError\u001b[0m                                 Traceback (most recent call last)",
      "\u001b[0;32m<ipython-input-24-a79e41ced52b>\u001b[0m in \u001b[0;36m<module>\u001b[0;34m\u001b[0m\n\u001b[0;32m----> 1\u001b[0;31m \u001b[0mcorrect\u001b[0m \u001b[0;34m-\u001b[0m \u001b[0;34m[\u001b[0m\u001b[0;36m23\u001b[0m\u001b[0;34m,\u001b[0m \u001b[0;36m37\u001b[0m\u001b[0;34m,\u001b[0m \u001b[0;36m53\u001b[0m\u001b[0;34m,\u001b[0m \u001b[0;36m73\u001b[0m\u001b[0;34m,\u001b[0m \u001b[0;36m313\u001b[0m\u001b[0;34m,\u001b[0m \u001b[0;36m317\u001b[0m\u001b[0;34m,\u001b[0m \u001b[0;36m373\u001b[0m\u001b[0;34m,\u001b[0m \u001b[0;36m797\u001b[0m\u001b[0;34m,\u001b[0m \u001b[0;36m3137\u001b[0m\u001b[0;34m,\u001b[0m \u001b[0;36m3797\u001b[0m\u001b[0;34m,\u001b[0m \u001b[0;36m739397\u001b[0m\u001b[0;34m]\u001b[0m\u001b[0;34m\u001b[0m\u001b[0;34m\u001b[0m\u001b[0m\n\u001b[0m",
      "\u001b[0;31mNameError\u001b[0m: name 'correct' is not defined"
     ]
    }
   ],
   "source": [
    "correct  = [23, 37, 53, 73, 313, 317, 373, 797, 3137, 3797, 739397]"
   ]
  },
  {
   "cell_type": "code",
   "execution_count": 32,
   "metadata": {},
   "outputs": [
    {
     "ename": "SyntaxError",
     "evalue": "invalid syntax (<ipython-input-32-dc82c12441e4>, line 2)",
     "output_type": "error",
     "traceback": [
      "\u001b[0;36m  File \u001b[0;32m\"<ipython-input-32-dc82c12441e4>\"\u001b[0;36m, line \u001b[0;32m2\u001b[0m\n\u001b[0;31m    lots of ones ending in 33 - these are not truncatable!\u001b[0m\n\u001b[0m          ^\u001b[0m\n\u001b[0;31mSyntaxError\u001b[0m\u001b[0;31m:\u001b[0m invalid syntax\n"
     ]
    }
   ],
   "source": [
    "## Problems \n",
    "lots of ones ending in 33 - these are not truncatable!\n",
    "31 is being left out\n",
    "add in a left truncatable funciton to check"
   ]
  },
  {
   "cell_type": "code",
   "execution_count": null,
   "metadata": {},
   "outputs": [],
   "source": [
    "\n"
   ]
  }
 ],
 "metadata": {
  "kernelspec": {
   "display_name": "Python 3",
   "language": "python",
   "name": "python3"
  },
  "language_info": {
   "codemirror_mode": {
    "name": "ipython",
    "version": 3
   },
   "file_extension": ".py",
   "mimetype": "text/x-python",
   "name": "python",
   "nbconvert_exporter": "python",
   "pygments_lexer": "ipython3",
   "version": "3.7.4"
  }
 },
 "nbformat": 4,
 "nbformat_minor": 2
}
