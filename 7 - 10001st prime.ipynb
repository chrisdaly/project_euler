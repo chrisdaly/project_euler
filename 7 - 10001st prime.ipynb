{
 "cells": [
  {
   "cell_type": "markdown",
   "metadata": {},
   "source": [
    "## Description"
   ]
  },
  {
   "cell_type": "markdown",
   "metadata": {},
   "source": [
    "By listing the first six prime numbers: 2, 3, 5, 7, 11, and 13, we can see that the 6th prime is 13.\n",
    "\n",
    "What is the 10 001st prime number?"
   ]
  },
  {
   "cell_type": "markdown",
   "metadata": {},
   "source": [
    "## Solution"
   ]
  },
  {
   "cell_type": "code",
   "execution_count": 46,
   "metadata": {},
   "outputs": [],
   "source": [
    "import math\n",
    "from utils import timeit"
   ]
  },
  {
   "cell_type": "code",
   "execution_count": 68,
   "metadata": {},
   "outputs": [],
   "source": [
    "def number_is_prime(number: int):\n",
    "    if number == 1:\n",
    "        return False\n",
    "    \n",
    "    # Only need to check half way due to symmetry.\n",
    "    halfway = int(math.sqrt(number))\n",
    "\n",
    "    possible_divisors = list(range(2, halfway))\n",
    "    \n",
    "    \n",
    "    remainders_evenly_divisable = [number % x == 0 for x in possible_divisors]\n",
    "    return not any(remainders_evenly_divisable)"
   ]
  },
  {
   "cell_type": "code",
   "execution_count": 69,
   "metadata": {},
   "outputs": [
    {
     "name": "stdout",
     "output_type": "stream",
     "text": [
      "func:'generate_raw_primes_upto' args:[(100,), {}] took: 0.0010 sec\n"
     ]
    },
    {
     "data": {
      "text/plain": [
       "443"
      ]
     },
     "execution_count": 69,
     "metadata": {},
     "output_type": "execute_result"
    }
   ],
   "source": [
    "@timeit\n",
    "def generate_raw_primes_upto(limit: int) -> list:\n",
    "    primes = []\n",
    "    n = 1\n",
    "    while len(primes) < limit:\n",
    "        if number_is_prime(n):\n",
    "            primes.append(n)\n",
    "        n += 1\n",
    "    return primes[-1]\n",
    "\n",
    "generate_raw_primes_upto(100)"
   ]
  },
  {
   "cell_type": "code",
   "execution_count": 70,
   "metadata": {},
   "outputs": [],
   "source": [
    "def sieve_of_erathosthenes(limit: int) -> int:\n",
    "   #  https://en.wikipedia.org/wiki/Sieve_of_Eratosthenes\n",
    "    primes = [2]\n",
    "    p = 2\n",
    "    all_numbers = range(2, n, 1)\n",
    "    \n",
    "    return \n",
    "\n",
    "p = 2\n",
    "n = 10\n",
    "all_numbers = range(p, n+1, 1)\n",
    "print(list(all_numbers))\n",
    "\n",
    "for i in range(2*p, n+1, 1):\n",
    "    "
   ]
  },
  {
   "cell_type": "code",
   "execution_count": 80,
   "metadata": {},
   "outputs": [
    {
     "data": {
      "text/plain": [
       "range(2, 11)"
      ]
     },
     "execution_count": 80,
     "metadata": {},
     "output_type": "execute_result"
    }
   ],
   "source": [
    "all_numbers"
   ]
  },
  {
   "cell_type": "code",
   "execution_count": null,
   "metadata": {},
   "outputs": [],
   "source": [
    "if p in all_numbers:\n",
    "    "
   ]
  },
  {
   "cell_type": "code",
   "execution_count": null,
   "metadata": {},
   "outputs": [],
   "source": []
  },
  {
   "cell_type": "code",
   "execution_count": null,
   "metadata": {},
   "outputs": [],
   "source": []
  },
  {
   "cell_type": "code",
   "execution_count": null,
   "metadata": {},
   "outputs": [],
   "source": [
    "Create a list of consecutive integers from 2 through n: (2, 3, 4, ..., n).\n",
    "Initially, let p equal 2, the smallest prime number.\n",
    "Enumerate the multiples of p by counting in increments of p from 2p to n, and mark them in the list (these will be 2p, 3p, 4p, ...; the p itself should not be marked).\n",
    "Find the first number greater than p in the list that is not marked. If there was no such number, stop. Otherwise, let p now equal this new number (which is the next prime), and repeat from step 3.\n",
    "When the algorithm terminates, the numbers remaining not marked in the list are all the primes below n."
   ]
  },
  {
   "cell_type": "code",
   "execution_count": null,
   "metadata": {},
   "outputs": [],
   "source": []
  },
  {
   "cell_type": "code",
   "execution_count": null,
   "metadata": {},
   "outputs": [],
   "source": []
  },
  {
   "cell_type": "code",
   "execution_count": null,
   "metadata": {},
   "outputs": [],
   "source": []
  },
  {
   "cell_type": "code",
   "execution_count": null,
   "metadata": {},
   "outputs": [],
   "source": []
  },
  {
   "cell_type": "code",
   "execution_count": 42,
   "metadata": {},
   "outputs": [
    {
     "name": "stdout",
     "output_type": "stream",
     "text": [
      "func:'get_n_prime' args:[(10000,), {}] took: 2.6345 sec\n"
     ]
    },
    {
     "data": {
      "text/plain": [
       "104743"
      ]
     },
     "execution_count": 42,
     "metadata": {},
     "output_type": "execute_result"
    }
   ],
   "source": [
    "@timeit\n",
    "def get_n_prime(limit):\n",
    "    p_no = [2,3]\n",
    "    i = 3\n",
    "    n = p_no[-1] + 2\n",
    "    while len(p_no) <= limit:\n",
    "        prime = True\n",
    "        for i in p_no:\n",
    "            if n % i == 0:\n",
    "                prime = False\n",
    "                break\n",
    "        if prime: p_no.append(n)\n",
    "        n += 2\n",
    "    return p_no[-1]\n",
    "\n",
    "get_n_prime(10000)"
   ]
  },
  {
   "cell_type": "code",
   "execution_count": null,
   "metadata": {},
   "outputs": [],
   "source": []
  }
 ],
 "metadata": {
  "kernelspec": {
   "display_name": "Python 3",
   "language": "python",
   "name": "python3"
  },
  "language_info": {
   "codemirror_mode": {
    "name": "ipython",
    "version": 3
   },
   "file_extension": ".py",
   "mimetype": "text/x-python",
   "name": "python",
   "nbconvert_exporter": "python",
   "pygments_lexer": "ipython3",
   "version": "3.7.4"
  }
 },
 "nbformat": 4,
 "nbformat_minor": 2
}
